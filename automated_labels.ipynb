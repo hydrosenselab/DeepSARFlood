{
 "cells": [
  {
   "cell_type": "code",
   "execution_count": 1,
   "metadata": {},
   "outputs": [],
   "source": [
    "start_date='2020-07-11'\n",
    "end_date='2023-07-11'\n",
    "geometry=(92.76,26.54)"
   ]
  },
  {
   "cell_type": "code",
   "execution_count": null,
   "metadata": {},
   "outputs": [],
   "source": [
    "import ee\n",
    "import geemap\n",
    "import pandas as pd\n",
    "\n",
    "class paired_labels():\n",
    "    def __init__(self, start_date, end_date, geometry):\n",
    "        self.start_date=ee.Date(start_date)\n",
    "        self.end_date=ee.Date(end_date)\n",
    "        self.geometry=ee.Geometry.Point(geometry)\n",
    "    def Initialize(self):\n",
    "    # Initialize the Earth Engine module.\n",
    "        try:\n",
    "            ee.Initialize(opt_url='https://earthengine-highvolume.googleapis.com')\n",
    "        except Exception as e:\n",
    "            ee.Authenticate()\n",
    "            ee.Initialize()\n",
    "        print('Earth Engine initialized.')\n",
    "    def get_dates_s2(self,image):\n",
    "        date=image.date().format()\n",
    "        return ee.Feature(None, {'date':date})\n",
    "    def get_dates_s1(self,image):\n",
    "        date=ee.Date(image.get('system:time_start')).format().slice(0,10)\n",
    "        return ee.Feature(None, {'date':date})\n",
    "    \n",
    "    def create_pairs_dataframe(self):\n",
    "        s2=ee.ImageCollection(\"COPERNICUS/S2_HARMONIZED\").filter((ee.Filter.lt('CLOUDY_PIXEL_PERCENTAGE',20))).filterDate(start_date,end_date).filterBounds(geometry)\n",
    "        s1=ee.ImageCollection(\"COPERNICUS/S1_GRD\").filterDate(start_date,end_date).filterBounds(geometry)\n",
    "        dates_sen2=s2.map(self.get_dates_s2).getInfo()\n",
    "        dates_sen1=s1.map(self.get_dates_s1).getInfo()\n",
    "        return dates_sen2,dates_sen1\n",
    "Initialize()"
   ]
  },
  {
   "cell_type": "code",
   "execution_count": null,
   "metadata": {},
   "outputs": [],
   "source": [
    "p=paired_labels(start_date,end_date,geometry)\n",
    "p.create_pairs_dataframe()"
   ]
  },
  {
   "cell_type": "code",
   "execution_count": null,
   "metadata": {},
   "outputs": [],
   "source": [
    "\n",
    "ee_geometry=ee.Geometry.Point(geometry)\n",
    "s1=ee.ImageCollection(\"COPERNICUS/S1_GRD\").filterDate(ee.Date('2017-01-01'),ee.Date('2024-04-01')).filterBounds(ee_geometry)\n",
    "def get_dates_s1(image):\n",
    "    date=ee.Date(image.get('system:time_start')).format().slice(0,10)\n",
    "    return ee.Feature(None, {'date':date})\n",
    "fc_sen1=s1.map(get_dates_s1).getInfo()\n"
   ]
  },
  {
   "cell_type": "code",
   "execution_count": null,
   "metadata": {},
   "outputs": [],
   "source": [
    "# ee_date=ee.Date(date)\n",
    "\n",
    "s2=ee.ImageCollection(\"COPERNICUS/S2_HARMONIZED\").filter((ee.Filter.lt('CLOUDY_PIXEL_PERCENTAGE',20))).filterDate(ee.Date('2017-01-01'),ee.Date('2024-04-01')).filterBounds(ee_geometry)"
   ]
  },
  {
   "cell_type": "code",
   "execution_count": null,
   "metadata": {},
   "outputs": [],
   "source": [
    "df=pd.DataFrame(columns=['Date'])\n",
    "for i in range(len(fc['features'])):\n",
    "    df.loc[len(df)]=fc['features'][i]['properties']['date']\n",
    "df['Date']=pd.to_datetime(df['Date']).dt.strftime('%Y-%m-%d')"
   ]
  },
  {
   "cell_type": "code",
   "execution_count": null,
   "metadata": {},
   "outputs": [],
   "source": [
    "df1=pd.DataFrame(columns=['Date'])\n",
    "for i in range(len(fc_sen1['features'])):\n",
    "    df1.loc[len(df1)]=fc_sen1['features'][i]['properties']['date']\n",
    "df1['Date']=pd.to_datetime(df1['Date']).dt.strftime('%Y-%m-%d')"
   ]
  },
  {
   "cell_type": "code",
   "execution_count": null,
   "metadata": {},
   "outputs": [],
   "source": [
    "\n",
    "s1=ee.ImageCollection(\"COPERNICUS/S1_GRD\").filterDate(ee.Date('2017-01-01'),ee.Date('2024-04-01')).filterBounds(ee_geometry)\n",
    "def get_dates_s1(image):\n",
    "    date=ee.Date(image.get('system:time_start')).format().slice(0,10)\n",
    "    return ee.Feature(None, {'date':date})\n",
    "fc_sen1=s1.map(get_dates_s1).getInfo()"
   ]
  },
  {
   "cell_type": "code",
   "execution_count": null,
   "metadata": {},
   "outputs": [],
   "source": [
    "df3 = pd.merge(df1, df, how='inner', left_on='Date', right_on='Date')\n",
    "df3.reset_index(inplace=True, drop=True)"
   ]
  }
 ],
 "metadata": {
  "kernelspec": {
   "display_name": "torchseg",
   "language": "python",
   "name": "python3"
  },
  "language_info": {
   "codemirror_mode": {
    "name": "ipython",
    "version": 3
   },
   "file_extension": ".py",
   "mimetype": "text/x-python",
   "name": "python",
   "nbconvert_exporter": "python",
   "pygments_lexer": "ipython3",
   "version": "3.9.19"
  }
 },
 "nbformat": 4,
 "nbformat_minor": 2
}
